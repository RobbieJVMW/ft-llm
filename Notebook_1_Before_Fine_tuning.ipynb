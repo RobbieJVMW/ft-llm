{
  "nbformat": 4,
  "nbformat_minor": 0,
  "metadata": {
    "colab": {
      "provenance": [],
      "gpuType": "V100",
      "include_colab_link": true
    },
    "kernelspec": {
      "name": "python3",
      "display_name": "Python 3"
    },
    "language_info": {
      "name": "python"
    },
    "accelerator": "GPU"
  },
  "cells": [
    {
      "cell_type": "markdown",
      "metadata": {
        "id": "view-in-github",
        "colab_type": "text"
      },
      "source": [
        "<a href=\"https://colab.research.google.com/github/RobbieJVMW/ft-llm/blob/main/Notebook_1_Before_Fine_tuning.ipynb\" target=\"_parent\"><img src=\"https://colab.research.google.com/assets/colab-badge.svg\" alt=\"Open In Colab\"/></a>"
      ]
    },
    {
      "cell_type": "markdown",
      "source": [
        "## Generating a text message conversation before Fine Tuning\n",
        "To check everything's set up OK.\n",
        "Use a V100 runtime."
      ],
      "metadata": {
        "id": "7jF5mC36zqfQ"
      }
    },
    {
      "cell_type": "code",
      "source": [
        "# Install libraries\n",
        "\n",
        "!pip install transformers accelerate sentencepiece bitsandbytes"
      ],
      "metadata": {
        "id": "Y-CDPYqFzoHk"
      },
      "execution_count": null,
      "outputs": []
    },
    {
      "cell_type": "code",
      "source": [
        "# On the Hugging Face site, Profile >> Settings >> Access Tokens (if you haven't already).\n",
        "# Keep the token somewhere safe for future use.\n",
        "# Paste that in to the field after running this cell. No need to \"Add token as git credential\"\n",
        "\n",
        "from huggingface_hub import notebook_login\n",
        "notebook_login()"
      ],
      "metadata": {
        "id": "1Vl2UzvL379x"
      },
      "execution_count": null,
      "outputs": []
    },
    {
      "cell_type": "code",
      "source": [
        "# Load the model\n",
        "\n",
        "import torch\n",
        "import transformers\n",
        "from transformers import AutoModelForCausalLM,AutoTokenizer, BitsAndBytesConfig, pipeline\n",
        "\n",
        "base_model_name = \"meta-llama/Llama-2-7b-chat-hf\"\n",
        "\n",
        "tokenizer = AutoTokenizer.from_pretrained(base_model_name, trust_remote_code=True)\n",
        "tokenizer.pad_token = tokenizer.eos_token\n",
        "tokenizer.padding_side = \"right\"\n",
        "\n",
        "quant_config = BitsAndBytesConfig(\n",
        "    load_in_4bit=True,\n",
        "    bnb_4bit_quant_type=\"nf4\",\n",
        "    bnb_4bit_compute_dtype=torch.bfloat16,\n",
        "    bnb_4bit_use_double_quant=True,\n",
        ")\n",
        "\n",
        "base_model = AutoModelForCausalLM.from_pretrained(\n",
        "    base_model_name,\n",
        "    quantization_config=quant_config,\n",
        "    device_map=\"auto\",\n",
        ")"
      ],
      "metadata": {
        "id": "oO66Ho6T44dO"
      },
      "execution_count": null,
      "outputs": []
    },
    {
      "cell_type": "code",
      "source": [
        "# Ask the model to continue a basic Text Message exchange\n",
        "\n",
        "query = \"<s><<SYS>>Write a realistic text message chat. Avoid repetition.<</SYS>>\\n\"\n",
        "query += \"[INST]Write a chat between John and Jane[/INST]\\n\"\n",
        "query += \"### John: Hi, Jane. How are you?\\n\"\n",
        "query += \"### Jane: \"\n",
        "text_gen = transformers.pipeline(task=\"text-generation\", model=base_model, tokenizer=tokenizer, max_length=300)\n",
        "output = text_gen(query)\n",
        "print(output[0]['generated_text'])"
      ],
      "metadata": {
        "id": "v40qk9V55Ho3"
      },
      "execution_count": null,
      "outputs": []
    }
  ]
}